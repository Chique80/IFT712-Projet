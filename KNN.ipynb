{
 "cells": [
  {
   "cell_type": "markdown",
   "metadata": {},
   "source": [
    "# Classifieur KNN\n",
    "Le classifieur KNN est assez simple et possède peu d'hyperparamètres, il sera donc facile à optimiser. On s'attend aussi à un bon résultat parce que les caractéristiques extraites devraient être assez représentatives des différentes espèces de feuilles."
   ]
  },
  {
   "cell_type": "code",
   "execution_count": 52,
   "metadata": {},
   "outputs": [
    {
     "name": "stdout",
     "output_type": "stream",
     "text": [
      "##### Informations #####\n",
      "  - Nb classes   : 99 ( Dim : 195 )\n",
      "  - Nb samples   : 990\n",
      "     - Training  : 693 ( 70.0 % )\n",
      "     - Test      : 297 ( 30.0 % )\n",
      "########################\n"
     ]
    }
   ],
   "source": [
    "import DataManagement as DM\n",
    "import numpy as np\n",
    "import pandas as pd\n",
    "import matplotlib.pyplot as plt\n",
    "from sklearn.neighbors import KNeighborsClassifier\n",
    "from sklearn.model_selection import GridSearchCV\n",
    "\n",
    "dataset = DM.Dataset('data/train.csv')\n",
    "dataset.split_data(test_size=0.3, seed=0, stratified=True)\n",
    "dataset.info()"
   ]
  },
  {
   "cell_type": "markdown",
   "metadata": {},
   "source": [
    "Puisque qu'on a beaucoup de classe et très peu de données par classe, on a séparé notre ensemble de données de façon à avoir autant de données dans chaque classe."
   ]
  },
  {
   "cell_type": "markdown",
   "metadata": {},
   "source": [
    "## Entrainement"
   ]
  },
  {
   "cell_type": "markdown",
   "metadata": {},
   "source": [
    "Pour notre classifieur KNN, on utilise 3 hyperparamètres :\n",
    "- Le nombre de voisins\n",
    "- La pondération associée à chaque voisin : uniforme (sans pondération) ou selon la distance\n",
    "- La métrique de distance\n",
    "\n",
    "L'hyperparamètre le plus important est évidemment le nombre de voisin. Cependant, ce sera intéressant de voir si les autres hyperparamètres auront un impact significatif sur les performances du modèle."
   ]
  },
  {
   "cell_type": "markdown",
   "metadata": {},
   "source": [
    "On utilise une validation croisée à 5 plis. On utilise un nombre de plis assez petit parce qu'on a très peu de données par classe (seulement 7) et on veut éviter d'avoir des plis qui n'ont pas de données pour certaines classes."
   ]
  },
  {
   "cell_type": "code",
   "execution_count": 53,
   "metadata": {},
   "outputs": [
    {
     "name": "stdout",
     "output_type": "stream",
     "text": [
      "Fitting 5 folds for each of 54 candidates, totalling 270 fits\n"
     ]
    },
    {
     "name": "stdout",
     "output_type": "stream",
     "text": [
      "Best: {'metric': 'manhattan', 'n_neighbors': 4, 'weights': 'distance'}\n"
     ]
    }
   ],
   "source": [
    "hyperparameters = {\n",
    "    'n_neighbors': range(1,10),\n",
    "    'weights': ['distance', 'uniform'],\n",
    "    'metric': ['euclidean', 'manhattan', 'cosine']   \n",
    "}\n",
    "\n",
    "grid = GridSearchCV(KNeighborsClassifier(), hyperparameters, refit=True, verbose = 1, cv=5)\n",
    "grid.fit(dataset.x_train, dataset.t_train)\n",
    "print('Best:', grid.best_params_)\n",
    "\n",
    "columns = ['param_'+param for param in hyperparameters.keys()]\n",
    "columns.append('mean_test_score')\n",
    "columns.append('rank_test_score')\n",
    "\n",
    "results = pd.DataFrame(grid.cv_results_, columns=columns)"
   ]
  },
  {
   "cell_type": "markdown",
   "metadata": {},
   "source": [
    "## Évaluation"
   ]
  },
  {
   "cell_type": "markdown",
   "metadata": {},
   "source": [
    "Le nombre de voisin optimal est 4, ce qui veut dire qu'on se base sur très peu de points pour déterminer l'espèce d'une feuille. On peut regarder les scores de tous les modèles à 1 voisin pour voir l'impact des autres hyperparamètres."
   ]
  },
  {
   "cell_type": "code",
   "execution_count": 54,
   "metadata": {},
   "outputs": [
    {
     "data": {
      "text/html": [
       "<div>\n",
       "<style scoped>\n",
       "    .dataframe tbody tr th:only-of-type {\n",
       "        vertical-align: middle;\n",
       "    }\n",
       "\n",
       "    .dataframe tbody tr th {\n",
       "        vertical-align: top;\n",
       "    }\n",
       "\n",
       "    .dataframe thead th {\n",
       "        text-align: right;\n",
       "    }\n",
       "</style>\n",
       "<table border=\"1\" class=\"dataframe\">\n",
       "  <thead>\n",
       "    <tr style=\"text-align: right;\">\n",
       "      <th></th>\n",
       "      <th>param_n_neighbors</th>\n",
       "      <th>param_weights</th>\n",
       "      <th>param_metric</th>\n",
       "      <th>mean_test_score</th>\n",
       "      <th>rank_test_score</th>\n",
       "    </tr>\n",
       "  </thead>\n",
       "  <tbody>\n",
       "    <tr>\n",
       "      <th>6</th>\n",
       "      <td>4</td>\n",
       "      <td>distance</td>\n",
       "      <td>euclidean</td>\n",
       "      <td>0.855698</td>\n",
       "      <td>30</td>\n",
       "    </tr>\n",
       "    <tr>\n",
       "      <th>7</th>\n",
       "      <td>4</td>\n",
       "      <td>uniform</td>\n",
       "      <td>euclidean</td>\n",
       "      <td>0.818215</td>\n",
       "      <td>43</td>\n",
       "    </tr>\n",
       "    <tr>\n",
       "      <th>24</th>\n",
       "      <td>4</td>\n",
       "      <td>distance</td>\n",
       "      <td>manhattan</td>\n",
       "      <td>0.932166</td>\n",
       "      <td>1</td>\n",
       "    </tr>\n",
       "    <tr>\n",
       "      <th>25</th>\n",
       "      <td>4</td>\n",
       "      <td>uniform</td>\n",
       "      <td>manhattan</td>\n",
       "      <td>0.904775</td>\n",
       "      <td>12</td>\n",
       "    </tr>\n",
       "    <tr>\n",
       "      <th>42</th>\n",
       "      <td>4</td>\n",
       "      <td>distance</td>\n",
       "      <td>cosine</td>\n",
       "      <td>0.880242</td>\n",
       "      <td>22</td>\n",
       "    </tr>\n",
       "    <tr>\n",
       "      <th>43</th>\n",
       "      <td>4</td>\n",
       "      <td>uniform</td>\n",
       "      <td>cosine</td>\n",
       "      <td>0.836920</td>\n",
       "      <td>37</td>\n",
       "    </tr>\n",
       "  </tbody>\n",
       "</table>\n",
       "</div>"
      ],
      "text/plain": [
       "   param_n_neighbors param_weights param_metric  mean_test_score  \\\n",
       "6                  4      distance    euclidean         0.855698   \n",
       "7                  4       uniform    euclidean         0.818215   \n",
       "24                 4      distance    manhattan         0.932166   \n",
       "25                 4       uniform    manhattan         0.904775   \n",
       "42                 4      distance       cosine         0.880242   \n",
       "43                 4       uniform       cosine         0.836920   \n",
       "\n",
       "    rank_test_score  \n",
       "6                30  \n",
       "7                43  \n",
       "24                1  \n",
       "25               12  \n",
       "42               22  \n",
       "43               37  "
      ]
     },
     "execution_count": 54,
     "metadata": {},
     "output_type": "execute_result"
    }
   ],
   "source": [
    "results.query('param_n_neighbors == 4')"
   ]
  },
  {
   "cell_type": "markdown",
   "metadata": {},
   "source": [
    "Les distances euclidiennes et cosinus sont assez similaire, mais la distance de manhattan est significativement différente et toujours supérieure.\n",
    "\n",
    "On remarque aussi que pondérer les voisins selon la distance donne toujours un meilleur résultat, ce qui est assez logique; plus on voisin est loin, moins il a de chance d'appartenir à la même classe."
   ]
  },
  {
   "cell_type": "markdown",
   "metadata": {},
   "source": [
    "On peut tracer un graphique du score en fonction des différentes valeurs d'hyperparamètres pour réellement voir l'impact de leur variation sur le score."
   ]
  },
  {
   "cell_type": "code",
   "execution_count": 55,
   "metadata": {},
   "outputs": [
    {
     "data": {
      "image/png": "[encoded data removed]",
      "text/plain": [
       "<Figure size 720x504 with 1 Axes>"
      ]
     },
     "metadata": {
      "needs_background": "light"
     },
     "output_type": "display_data"
    }
   ],
   "source": [
    "plt.figure(figsize=(10,7))\n",
    "\n",
    "plt.scatter(results.query('param_metric == \"euclidean\" and param_weights == \"uniform\"')['param_n_neighbors'],\n",
    "            results.query('param_metric == \"euclidean\" and param_weights == \"uniform\"')['mean_test_score'],\n",
    "            marker='s', color='blue')\n",
    "plt.scatter(results.query('param_metric == \"cosine\" and param_weights == \"uniform\"')['param_n_neighbors'],\n",
    "            results.query('param_metric == \"cosine\" and param_weights == \"uniform\"')['mean_test_score'],\n",
    "            marker='o', color='blue')\n",
    "plt.scatter(results.query('param_metric == \"manhattan\" and param_weights == \"uniform\"')['param_n_neighbors'],\n",
    "            results.query('param_metric == \"manhattan\" and param_weights == \"uniform\"')['mean_test_score'],\n",
    "            marker='^', color='blue')\n",
    "plt.scatter(results.query('param_metric == \"euclidean\" and param_weights == \"distance\"')['param_n_neighbors'],\n",
    "            results.query('param_metric == \"euclidean\" and param_weights == \"distance\"')['mean_test_score'],\n",
    "            marker='s', color='red')\n",
    "plt.scatter(results.query('param_metric == \"cosine\" and param_weights == \"distance\"')['param_n_neighbors'],\n",
    "            results.query('param_metric == \"cosine\" and param_weights == \"distance\"')['mean_test_score'],\n",
    "            marker='o', color='red')\n",
    "plt.scatter(results.query('param_metric == \"manhattan\" and param_weights == \"distance\"')['param_n_neighbors'],\n",
    "            results.query('param_metric == \"manhattan\" and param_weights == \"distance\"')['mean_test_score'],\n",
    "            marker='^', color='red')\n",
    "\n",
    "plt.xlabel(\"Neighbors\")\n",
    "plt.ylabel(\"Score\")\n",
    "plt.title(\"Grid Search Results\")\n",
    "\n",
    "legend = [\n",
    "    plt.Line2D([0], [0], marker='s', color='white', markerfacecolor='black', markersize=10, label='euclidean'), \n",
    "    plt.Line2D([0], [0], marker='o', color='white', markerfacecolor='black', markersize=10, label='cosine'), \n",
    "    plt.Line2D([0], [0], marker='^', color='white', markerfacecolor='black', markersize=10, label='manhattan'),\n",
    "    plt.Line2D([0], [0], color='blue', linewidth=5, label='uniform'),\n",
    "    plt.Line2D([0], [0], color='red', linewidth=5, label='distance')\n",
    "    ]\n",
    "plt.legend(handles=legend, ncols=2)\n",
    "\n",
    "plt.show()"
   ]
  },
  {
   "cell_type": "markdown",
   "metadata": {},
   "source": [
    "On remarque la distance de manhattan est toujours meilleure que les distances euclidienne et cosinus, et la pondération des voisins selon la distance est toujours meilleure que la pondération uniforme.\n",
    "\n",
    "De plus, le score commence à décroitre lorsque le nombre de voisins est supérieur à 4. C'est assez logique; notre ensemble d'entrainement contient très peu de données par classe donc si on regarde beaucoup de voisins, la majorité d'entre eux appartiendront à des classes différentes. La décroissance est encore plus grande sans pondération, justement parce qu'on accorde trop d'importance aux voisins éloignés qui sont dans des classes différentes.\n",
    "\n",
    "Au final, il est donc assez logique que le nombre optimal de voisin soit 4."
   ]
  },
  {
   "cell_type": "markdown",
   "metadata": {},
   "source": [
    "## Test"
   ]
  },
  {
   "cell_type": "code",
   "execution_count": 56,
   "metadata": {},
   "outputs": [
    {
     "name": "stdout",
     "output_type": "stream",
     "text": [
      "Accuracy  : 95.2862%\n",
      "f1_score  : 0.95 ± 0.1041\n",
      "precision : 0.964 ± 0.09469\n",
      "recall    : 0.9529 ± 0.1348\n"
     ]
    },
    {
     "data": {
      "image/png": "[encoded data removed]",
      "text/plain": [
       "<Figure size 576x360 with 1 Axes>"
      ]
     },
     "metadata": {
      "needs_background": "light"
     },
     "output_type": "display_data"
    }
   ],
   "source": [
    "# TODO Explain evaluation metrics   \n",
    "\n",
    "test_preds = grid.predict(dataset.x_test)\n",
    "acc, reports = DM.evaluate(dataset.t_test, test_preds, dataset.classes)"
   ]
  }
 ],
 "metadata": {
  "kernelspec": {
   "display_name": "base",
   "language": "python",
   "name": "python3"
  },
  "language_info": {
   "codemirror_mode": {
    "name": "ipython",
    "version": 3
   },
   "file_extension": ".py",
   "mimetype": "text/x-python",
   "name": "python",
   "nbconvert_exporter": "python",
   "pygments_lexer": "ipython3",
   "version": "3.10.4"
  }
 },
 "nbformat": 4,
 "nbformat_minor": 2
}
